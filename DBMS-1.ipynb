{
 "cells": [
  {
   "cell_type": "code",
   "execution_count": 1,
   "metadata": {},
   "outputs": [
    {
     "name": "stdout",
     "output_type": "stream",
     "text": [
      "Requirement already satisfied: mysql-Connector-python in /opt/anaconda3/lib/python3.8/site-packages (8.0.31)\n",
      "Requirement already satisfied: protobuf<=3.20.1,>=3.11.0 in /opt/anaconda3/lib/python3.8/site-packages (from mysql-Connector-python) (3.19.4)\n",
      "Note: you may need to restart the kernel to use updated packages.\n"
     ]
    }
   ],
   "source": [
    "pip install mysql-Connector-python"
   ]
  },
  {
   "cell_type": "code",
   "execution_count": 2,
   "metadata": {},
   "outputs": [],
   "source": [
    "import mysql\n",
    "import mysql.connector"
   ]
  },
  {
   "cell_type": "code",
   "execution_count": 3,
   "metadata": {},
   "outputs": [],
   "source": [
    "db= mysql.connector.connect(host = 'localhost',user='root',password='Deepu_mac')"
   ]
  },
  {
   "cell_type": "code",
   "execution_count": 4,
   "metadata": {},
   "outputs": [],
   "source": [
    "Mycursor=db.cursor()"
   ]
  },
  {
   "cell_type": "code",
   "execution_count": 5,
   "metadata": {},
   "outputs": [],
   "source": [
    "Mycursor.execute('Use count_the_carbon')"
   ]
  },
  {
   "cell_type": "code",
   "execution_count": 6,
   "metadata": {},
   "outputs": [],
   "source": [
    "Mycursor.execute('SELECT username FROM user_credentials')"
   ]
  },
  {
   "cell_type": "code",
   "execution_count": 7,
   "metadata": {},
   "outputs": [
    {
     "name": "stdout",
     "output_type": "stream",
     "text": [
      "('household',)\n",
      "('metropolitan',)\n",
      "('rural',)\n",
      "('village',)\n",
      "('urban',)\n"
     ]
    }
   ],
   "source": [
    "Usernamelist=[]\n",
    "for i in Mycursor:\n",
    "    print(i)\n",
    "    str=''.join(i)\n",
    "    Usernamelist.append(str)"
   ]
  },
  {
   "cell_type": "code",
   "execution_count": 8,
   "metadata": {},
   "outputs": [
    {
     "data": {
      "text/plain": [
       "['household', 'metropolitan', 'rural', 'village', 'urban']"
      ]
     },
     "execution_count": 8,
     "metadata": {},
     "output_type": "execute_result"
    }
   ],
   "source": [
    "Usernamelist"
   ]
  },
  {
   "cell_type": "code",
   "execution_count": 9,
   "metadata": {},
   "outputs": [],
   "source": [
    "Mycursor.execute('SELECT password FROM user_credentials')"
   ]
  },
  {
   "cell_type": "code",
   "execution_count": 10,
   "metadata": {},
   "outputs": [
    {
     "name": "stdout",
     "output_type": "stream",
     "text": [
      "('house',)\n",
      "('metropolitan',)\n",
      "('rural',)\n",
      "('village',)\n",
      "('urban',)\n"
     ]
    }
   ],
   "source": [
    "Passwordlist=[]\n",
    "for i in Mycursor:\n",
    "    print(i)\n",
    "    str=''.join(i)\n",
    "    Passwordlist.append(str)\n"
   ]
  },
  {
   "cell_type": "code",
   "execution_count": 11,
   "metadata": {},
   "outputs": [
    {
     "data": {
      "text/plain": [
       "['house', 'metropolitan', 'rural', 'village', 'urban']"
      ]
     },
     "execution_count": 11,
     "metadata": {},
     "output_type": "execute_result"
    }
   ],
   "source": [
    "Passwordlist"
   ]
  },
  {
   "cell_type": "markdown",
   "metadata": {},
   "source": [
    "Front end.\n"
   ]
  },
  {
   "cell_type": "markdown",
   "metadata": {},
   "source": []
  },
  {
   "cell_type": "code",
   "execution_count": 12,
   "metadata": {},
   "outputs": [],
   "source": [
    "from tkinter import* \n",
    "import tkinter as tk\n",
    "from tkcalendar import*\n",
    "from tkinter import ttk\n",
    "import time\n",
    "from tkinter import messagebox"
   ]
  },
  {
   "cell_type": "code",
   "execution_count": 13,
   "metadata": {},
   "outputs": [],
   "source": [
    "RootW=Tk()\n",
    "RootW.geometry(\"700x500\") #setting dimension of output window\n",
    "RootW.config(background=\"#b3d1ff\")#backgroung colour inside the window"
   ]
  },
  {
   "cell_type": "code",
   "execution_count": 14,
   "metadata": {},
   "outputs": [],
   "source": [
    "def login():\n",
    "    pwd=''\n",
    "    for i in range (0,len(Usernamelist)):\n",
    "            if username.get()== Usernamelist[i]:\n",
    "                pwd=Passwordlist[i]\n",
    "    if Password.get()== pwd:\n",
    "        createw1()\n",
    "         \n",
    "    else:  \n",
    "         label1=Label(RootW, text='invalid login please try again',fg='black',font=(\"Arial\",15))\n",
    "         label1.pack()\n",
    "           \n",
    "    return 0"
   ]
  },
  {
   "cell_type": "code",
   "execution_count": 15,
   "metadata": {},
   "outputs": [],
   "source": [
    "def createw1():\n",
    "         db= mysql.connector.connect(host = 'localhost',user='root',password='Deepu_mac')\n",
    "         Mycursor=db.cursor()\n",
    "         Mycursor.execute('use count_the_carbon')\n",
    "         if username.get()=='household':\n",
    "            Mycursor.execute('SELECT sources from household')\n",
    "         if username.get()=='rural':\n",
    "            Mycursor.execute('SELECT sources from rural')\n",
    "         if username.get()=='urban':\n",
    "            Mycursor.execute('SELECT sources from urban')\n",
    "         if username.get()=='village':\n",
    "            Mycursor.execute('SELECT sources from village')\n",
    "         if username.get()=='metropolitan':\n",
    "            Mycursor.execute('SELECT sources from metropolitan')\n",
    "         else:\n",
    "            print('something')\n",
    "         sources=[]\n",
    "         for i in Mycursor:\n",
    "            print(i)\n",
    "            str=''.join(i)\n",
    "            sources.append(str)\n",
    "         sources\n",
    "         \n",
    "         W1=Toplevel() \n",
    "         W1.geometry(\"600x600\") #assigning measurements\n",
    "         W1.config(background=\"#ffcccc\")\n",
    "         W1.title(\"COUNT THE CARBON- \")#title\n",
    "         label1=Label(W1, text='Choose the sources',fg='#800000', font=(\"Times\",22))#declaring a label with font color,style,size\n",
    "         label1.pack() \n",
    "         for i in range(0,len(sources)):\n",
    "            \n",
    "            label1=Label(W1, text= sources[i],fg='#800000', font=(\"Times\",22))#declaring a label with font color,style,size\n",
    "            label1.pack() \n",
    "            \n",
    "     \n",
    "         # Mycursor.execute('SELECT emission_factor from metropolitan')\n",
    "         \n",
    "\n"
   ]
  },
  {
   "cell_type": "code",
   "execution_count": 16,
   "metadata": {},
   "outputs": [
    {
     "name": "stdout",
     "output_type": "stream",
     "text": [
      "something\n",
      "('electricity',)\n",
      "('petrol',)\n",
      "('lpg',)\n",
      "('diesel',)\n"
     ]
    }
   ],
   "source": [
    "label=Label(RootW, text='WELCOME',fg='#800000', font=(\"Times\",22))#declaring a label with font color,style,size\n",
    "label.pack()\n",
    "label=Label(RootW, text='Please enter your Login Details',fg='black',font=(\"Arial\",15)) #declaring a label with font color,style,size\n",
    "label.pack(pady=15) #vertical space between two labels\n",
    "\n",
    "label=Label(RootW, text='Username:',fg='black',font=(\"Arial\",15))\n",
    "label.pack(pady=5) \n",
    "username=StringVar()  #default menu options\n",
    "username.set('CHOOSE USER TYPE') \n",
    "User= OptionMenu(RootW,username,*Usernamelist)  #dropdown menu options\n",
    "User.pack()\n",
    "label=Label(RootW, text='Password:',fg='black',font=(\"Arial\",15))\n",
    "label.pack(pady=5) \n",
    "Password= tk.StringVar()\n",
    "password_entry = ttk.Entry(RootW, textvariable=Password, show=\"*\")\n",
    "\n",
    "password_entry.pack(fill='x', expand=False)\n",
    "\n",
    "Button(RootW,text=\"Login\",command=login, font=('Times',14) ).pack(pady=20)\n",
    "\n",
    "\n",
    "\n",
    "\n",
    "\n",
    "RootW.mainloop() "
   ]
  },
  {
   "cell_type": "markdown",
   "metadata": {},
   "source": []
  },
  {
   "cell_type": "code",
   "execution_count": null,
   "metadata": {},
   "outputs": [],
   "source": []
  },
  {
   "cell_type": "code",
   "execution_count": 17,
   "metadata": {},
   "outputs": [
    {
     "data": {
      "text/plain": [
       "'household'"
      ]
     },
     "execution_count": 17,
     "metadata": {},
     "output_type": "execute_result"
    }
   ],
   "source": [
    "username.get()"
   ]
  },
  {
   "cell_type": "code",
   "execution_count": 18,
   "metadata": {},
   "outputs": [
    {
     "data": {
      "text/plain": [
       "'house'"
      ]
     },
     "execution_count": 18,
     "metadata": {},
     "output_type": "execute_result"
    }
   ],
   "source": [
    "Password.get()"
   ]
  },
  {
   "cell_type": "code",
   "execution_count": null,
   "metadata": {},
   "outputs": [],
   "source": []
  }
 ],
 "metadata": {
  "kernelspec": {
   "display_name": "Python 3.8.8 ('base')",
   "language": "python",
   "name": "python3"
  },
  "language_info": {
   "codemirror_mode": {
    "name": "ipython",
    "version": 3
   },
   "file_extension": ".py",
   "mimetype": "text/x-python",
   "name": "python",
   "nbconvert_exporter": "python",
   "pygments_lexer": "ipython3",
   "version": "3.8.8"
  },
  "orig_nbformat": 4,
  "vscode": {
   "interpreter": {
    "hash": "40d3a090f54c6569ab1632332b64b2c03c39dcf918b08424e98f38b5ae0af88f"
   }
  }
 },
 "nbformat": 4,
 "nbformat_minor": 2
}
